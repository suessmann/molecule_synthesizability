{
 "cells": [
  {
   "cell_type": "code",
   "execution_count": 24,
   "metadata": {
    "ExecuteTime": {
     "end_time": "2020-03-28T12:13:37.371318Z",
     "start_time": "2020-03-28T12:13:37.365776Z"
    }
   },
   "outputs": [],
   "source": [
    "from os import environ\n",
    "environ['KERAS_BACKEND'] = 'tensorflow'\n",
    "\n",
    "import pandas as pd\n",
    "import numpy as np\n",
    "\n",
    "from chemvae.vae_utils import VAEUtils\n",
    "from chemvae import mol_utils as mu\n",
    "\n",
    "from rdkit.Chem import AllChem as Chem\n",
    "from rdkit import rdBase\n",
    "rdBase.DisableLog('rdApp.error') # supresses RDkit errors\n",
    "\n",
    "\n",
    "import matplotlib.pyplot as plt\n",
    "import matplotlib as mpl\n",
    "# from IPython.display import SVG, display\n",
    "from rdkit.Chem.Draw import IPythonConsole\n",
    "\n",
    "import warnings\n",
    "warnings.filterwarnings('ignore', category=FutureWarning)"
   ]
  },
  {
   "cell_type": "code",
   "execution_count": 59,
   "metadata": {
    "ExecuteTime": {
     "end_time": "2020-03-28T12:49:12.473375Z",
     "start_time": "2020-03-28T12:49:12.468922Z"
    }
   },
   "outputs": [],
   "source": [
    "mols = ['Cc1ccc(S2(=O)=NC(=O)Nc3ccccc32)cc1']\n",
    "#        'CN(Cc1ccc2c(c1)C(=O)CC2)C(=O)OC(C)(C)C',\n",
    "#        'COC(=O)C1CCC(Oc2ccc(NC(=O)C(=O)NN)cn2)CC1']\n",
    "\n",
    "ms_rd = [Chem.MolFromSmiles(mol) for mol in mols]"
   ]
  },
  {
   "cell_type": "code",
   "execution_count": 47,
   "metadata": {
    "ExecuteTime": {
     "end_time": "2020-03-28T12:17:22.110295Z",
     "start_time": "2020-03-28T12:17:22.095662Z"
    }
   },
   "outputs": [
    {
     "ename": "TypeError",
     "evalue": "join() takes exactly one argument (0 given)",
     "output_type": "error",
     "traceback": [
      "\u001b[0;31m---------------------------------------------------------------------------\u001b[0m",
      "\u001b[0;31mTypeError\u001b[0m                                 Traceback (most recent call last)",
      "\u001b[0;32m<ipython-input-47-d1ee034e40d8>\u001b[0m in \u001b[0;36m<module>\u001b[0;34m\u001b[0m\n\u001b[0;32m----> 1\u001b[0;31m \u001b[0;34m'Cc1ccc(S2(=O)=NC(=O)Nc3ccccc32)cc1'\u001b[0m\u001b[0;34m.\u001b[0m\u001b[0mjoin\u001b[0m\u001b[0;34m(\u001b[0m\u001b[0;34m)\u001b[0m\u001b[0;34m\u001b[0m\u001b[0;34m\u001b[0m\u001b[0m\n\u001b[0m",
      "\u001b[0;31mTypeError\u001b[0m: join() takes exactly one argument (0 given)"
     ]
    }
   ],
   "source": [
    "'Cc1ccc(S2(=O)=NC(=O)Nc3ccccc32)cc1'.join()"
   ]
  },
  {
   "cell_type": "code",
   "execution_count": 39,
   "metadata": {
    "ExecuteTime": {
     "end_time": "2020-03-28T12:14:19.277833Z",
     "start_time": "2020-03-28T12:14:19.273536Z"
    },
    "scrolled": true
   },
   "outputs": [
    {
     "name": "stdout",
     "output_type": "stream",
     "text": [
      "Cc1ccc(S2(=O)=NC(=O)Nc3ccccc32)cc1 \r",
      "hui\n"
     ]
    }
   ],
   "source": [
    "print(leg[0])"
   ]
  },
  {
   "cell_type": "code",
   "execution_count": 80,
   "metadata": {
    "ExecuteTime": {
     "end_time": "2020-03-28T13:08:32.075428Z",
     "start_time": "2020-03-28T13:08:32.072024Z"
    }
   },
   "outputs": [],
   "source": [
    "leg = ['Cc1ccc(S2(=O)=NC(=O)Nc3ccccc32)cc1 \\n\\rhui']"
   ]
  },
  {
   "cell_type": "code",
   "execution_count": 81,
   "metadata": {
    "ExecuteTime": {
     "end_time": "2020-03-28T13:08:32.492443Z",
     "start_time": "2020-03-28T13:08:32.439862Z"
    }
   },
   "outputs": [
    {
     "data": {
      "image/png": "[encoded data removed]",
      "text/plain": [
       "<PIL.PngImagePlugin.PngImageFile image mode=RGB size=1200x400 at 0x108369080>"
      ]
     },
     "execution_count": 81,
     "metadata": {},
     "output_type": "execute_result"
    }
   ],
   "source": [
    "Chem.Draw.MolsToGridImage(ms_rd, subImgSize=(400,400), legends=leg)"
   ]
  },
  {
   "cell_type": "code",
   "execution_count": 4,
   "metadata": {
    "ExecuteTime": {
     "end_time": "2020-03-26T13:18:14.631822Z",
     "start_time": "2020-03-26T13:17:36.013702Z"
    }
   },
   "outputs": [
    {
     "name": "stderr",
     "output_type": "stream",
     "text": [
      "/Users/suess_mann/opt/miniconda3/envs/chemvae/lib/python3.6/site-packages/keras/models.py:245: UserWarning: No training configuration found in save file: the model was *not* compiled. Compile it manually.\n",
      "  warnings.warn('No training configuration found in save file: '\n"
     ]
    },
    {
     "name": "stdout",
     "output_type": "stream",
     "text": [
      "Using standarized functions? True\n",
      "Standarization: estimating mu and std values ...done!\n"
     ]
    }
   ],
   "source": [
    "model = VAEUtils(directory='./chemical_vae/models/zinc_properties')"
   ]
  },
  {
   "cell_type": "code",
   "execution_count": 25,
   "metadata": {
    "ExecuteTime": {
     "end_time": "2020-03-26T14:21:14.641214Z",
     "start_time": "2020-03-26T14:21:14.630900Z"
    }
   },
   "outputs": [],
   "source": [
    "X_1 = model.smiles_to_hot(mols)\n",
    "hidden = model.encode(X_1)"
   ]
  },
  {
   "cell_type": "code",
   "execution_count": 27,
   "metadata": {
    "ExecuteTime": {
     "end_time": "2020-03-26T14:23:24.665436Z",
     "start_time": "2020-03-26T14:23:15.623402Z"
    }
   },
   "outputs": [],
   "source": [
    "X_r = model.z_to_smiles(hidden[0])"
   ]
  },
  {
   "cell_type": "code",
   "execution_count": 28,
   "metadata": {
    "ExecuteTime": {
     "end_time": "2020-03-26T14:23:24.815169Z",
     "start_time": "2020-03-26T14:23:24.801928Z"
    }
   },
   "outputs": [
    {
     "data": {
      "text/html": [
       "<div>\n",
       "<style scoped>\n",
       "    .dataframe tbody tr th:only-of-type {\n",
       "        vertical-align: middle;\n",
       "    }\n",
       "\n",
       "    .dataframe tbody tr th {\n",
       "        vertical-align: top;\n",
       "    }\n",
       "\n",
       "    .dataframe thead th {\n",
       "        text-align: right;\n",
       "    }\n",
       "</style>\n",
       "<table border=\"1\" class=\"dataframe\">\n",
       "  <thead>\n",
       "    <tr style=\"text-align: right;\">\n",
       "      <th></th>\n",
       "      <th>smiles</th>\n",
       "      <th>distance</th>\n",
       "      <th>count</th>\n",
       "      <th>frequency</th>\n",
       "      <th>mol</th>\n",
       "    </tr>\n",
       "  </thead>\n",
       "  <tbody>\n",
       "    <tr>\n",
       "      <th>0</th>\n",
       "      <td>Cc1ccc(C[N+]2CNC(=O)Nc3ccccc32)cc1</td>\n",
       "      <td>5.314932</td>\n",
       "      <td>1</td>\n",
       "      <td>0.024390</td>\n",
       "      <td>&lt;rdkit.Chem.rdchem.Mol object at 0x12fca5260&gt;</td>\n",
       "    </tr>\n",
       "    <tr>\n",
       "      <th>1</th>\n",
       "      <td>Cc1ccc(C[N+]2=NC(=O)Nc3ccccc23)cc1</td>\n",
       "      <td>10.734626</td>\n",
       "      <td>1</td>\n",
       "      <td>0.024390</td>\n",
       "      <td>&lt;rdkit.Chem.rdchem.Mol object at 0x12fca54e0&gt;</td>\n",
       "    </tr>\n",
       "    <tr>\n",
       "      <th>2</th>\n",
       "      <td>Cc1ccc(C[n+]2=NC(=O)Nc3ccccc32)cc1</td>\n",
       "      <td>10.734626</td>\n",
       "      <td>15</td>\n",
       "      <td>0.365854</td>\n",
       "      <td>&lt;rdkit.Chem.rdchem.Mol object at 0x12f087d50&gt;</td>\n",
       "    </tr>\n",
       "    <tr>\n",
       "      <th>3</th>\n",
       "      <td>Cc1ccc(C[N+]2=NC(=O)Nc3ccccc32)cc1</td>\n",
       "      <td>10.734626</td>\n",
       "      <td>13</td>\n",
       "      <td>0.317073</td>\n",
       "      <td>&lt;rdkit.Chem.rdchem.Mol object at 0x12f087b20&gt;</td>\n",
       "    </tr>\n",
       "    <tr>\n",
       "      <th>4</th>\n",
       "      <td>Cc1ccc(/[n+]2=NC(=O)Nc3ccccc32)cc1</td>\n",
       "      <td>10.819690</td>\n",
       "      <td>2</td>\n",
       "      <td>0.048780</td>\n",
       "      <td>&lt;rdkit.Chem.rdchem.Mol object at 0x12f087080&gt;</td>\n",
       "    </tr>\n",
       "    <tr>\n",
       "      <th>5</th>\n",
       "      <td>Fc1ccc(C[N+]2=NC(=O)Nc3ccccc32)cc1</td>\n",
       "      <td>14.094234</td>\n",
       "      <td>4</td>\n",
       "      <td>0.097561</td>\n",
       "      <td>&lt;rdkit.Chem.rdchem.Mol object at 0x12f0873a0&gt;</td>\n",
       "    </tr>\n",
       "    <tr>\n",
       "      <th>6</th>\n",
       "      <td>Fc1ccc(C[n+]2=NC(=O)Nc3ccccc32)cc1</td>\n",
       "      <td>14.094234</td>\n",
       "      <td>2</td>\n",
       "      <td>0.048780</td>\n",
       "      <td>&lt;rdkit.Chem.rdchem.Mol object at 0x12fca53f0&gt;</td>\n",
       "    </tr>\n",
       "    <tr>\n",
       "      <th>7</th>\n",
       "      <td>C1cccc(C[N+]2=NC(=O)Nc3ccccc32)cc1</td>\n",
       "      <td>16.288761</td>\n",
       "      <td>1</td>\n",
       "      <td>0.024390</td>\n",
       "      <td>&lt;rdkit.Chem.rdchem.Mol object at 0x12f0877b0&gt;</td>\n",
       "    </tr>\n",
       "    <tr>\n",
       "      <th>8</th>\n",
       "      <td>C1cccc(C[n+]2=NC(=O)Nc3ccccc32)cc1</td>\n",
       "      <td>16.288761</td>\n",
       "      <td>2</td>\n",
       "      <td>0.048780</td>\n",
       "      <td>&lt;rdkit.Chem.rdchem.Mol object at 0x12fca5170&gt;</td>\n",
       "    </tr>\n",
       "  </tbody>\n",
       "</table>\n",
       "</div>"
      ],
      "text/plain": [
       "                               smiles   distance  count  frequency  \\\n",
       "0  Cc1ccc(C[N+]2CNC(=O)Nc3ccccc32)cc1   5.314932      1   0.024390   \n",
       "1  Cc1ccc(C[N+]2=NC(=O)Nc3ccccc23)cc1  10.734626      1   0.024390   \n",
       "2  Cc1ccc(C[n+]2=NC(=O)Nc3ccccc32)cc1  10.734626     15   0.365854   \n",
       "3  Cc1ccc(C[N+]2=NC(=O)Nc3ccccc32)cc1  10.734626     13   0.317073   \n",
       "4  Cc1ccc(/[n+]2=NC(=O)Nc3ccccc32)cc1  10.819690      2   0.048780   \n",
       "5  Fc1ccc(C[N+]2=NC(=O)Nc3ccccc32)cc1  14.094234      4   0.097561   \n",
       "6  Fc1ccc(C[n+]2=NC(=O)Nc3ccccc32)cc1  14.094234      2   0.048780   \n",
       "7  C1cccc(C[N+]2=NC(=O)Nc3ccccc32)cc1  16.288761      1   0.024390   \n",
       "8  C1cccc(C[n+]2=NC(=O)Nc3ccccc32)cc1  16.288761      2   0.048780   \n",
       "\n",
       "                                             mol  \n",
       "0  <rdkit.Chem.rdchem.Mol object at 0x12fca5260>  \n",
       "1  <rdkit.Chem.rdchem.Mol object at 0x12fca54e0>  \n",
       "2  <rdkit.Chem.rdchem.Mol object at 0x12f087d50>  \n",
       "3  <rdkit.Chem.rdchem.Mol object at 0x12f087b20>  \n",
       "4  <rdkit.Chem.rdchem.Mol object at 0x12f087080>  \n",
       "5  <rdkit.Chem.rdchem.Mol object at 0x12f0873a0>  \n",
       "6  <rdkit.Chem.rdchem.Mol object at 0x12fca53f0>  \n",
       "7  <rdkit.Chem.rdchem.Mol object at 0x12f0877b0>  \n",
       "8  <rdkit.Chem.rdchem.Mol object at 0x12fca5170>  "
      ]
     },
     "execution_count": 28,
     "metadata": {},
     "output_type": "execute_result"
    }
   ],
   "source": [
    "X_r"
   ]
  },
  {
   "cell_type": "code",
   "execution_count": 30,
   "metadata": {
    "ExecuteTime": {
     "end_time": "2020-03-27T10:26:37.092274Z",
     "start_time": "2020-03-27T10:26:36.970309Z"
    }
   },
   "outputs": [
    {
     "ename": "NameError",
     "evalue": "name 'df' is not defined",
     "output_type": "error",
     "traceback": [
      "\u001b[0;31m---------------------------------------------------------------------------\u001b[0m",
      "\u001b[0;31mNameError\u001b[0m                                 Traceback (most recent call last)",
      "\u001b[0;32m<ipython-input-30-7c05ee66f858>\u001b[0m in \u001b[0;36m<module>\u001b[0;34m\u001b[0m\n\u001b[0;32m----> 1\u001b[0;31m \u001b[0mdf\u001b[0m\u001b[0;34m[\u001b[0m\u001b[0;36m0\u001b[0m\u001b[0;34m]\u001b[0m\u001b[0;34m.\u001b[0m\u001b[0msmiles\u001b[0m\u001b[0;34m.\u001b[0m\u001b[0mvalues\u001b[0m\u001b[0;34m\u001b[0m\u001b[0;34m\u001b[0m\u001b[0m\n\u001b[0m",
      "\u001b[0;31mNameError\u001b[0m: name 'df' is not defined"
     ]
    }
   ],
   "source": [
    "df[0].smiles.values"
   ]
  },
  {
   "cell_type": "code",
   "execution_count": 29,
   "metadata": {
    "ExecuteTime": {
     "end_time": "2020-03-27T10:26:00.013503Z",
     "start_time": "2020-03-27T10:25:59.846827Z"
    }
   },
   "outputs": [
    {
     "data": {
      "text/plain": [
       "array([[0.72313255, 2.4103727 , 3.1467237 ],\n",
       "       [0.81158835, 2.219855  , 2.4382758 ],\n",
       "       [0.7531525 , 2.4784982 , 0.05034551]], dtype=float32)"
      ]
     },
     "execution_count": 29,
     "metadata": {},
     "output_type": "execute_result"
    }
   ],
   "source": [
    "model.predict(df[0].smiles.values)"
   ]
  },
  {
   "cell_type": "code",
   "execution_count": 24,
   "metadata": {
    "ExecuteTime": {
     "end_time": "2020-03-26T13:25:25.831993Z",
     "start_time": "2020-03-26T13:25:24.377375Z"
    }
   },
   "outputs": [
    {
     "ename": "ValueError",
     "evalue": "operands could not be broadcast together with shapes (3,196) (4,196) ",
     "output_type": "error",
     "traceback": [
      "\u001b[0;31m---------------------------------------------------------------------------\u001b[0m",
      "\u001b[0;31mValueError\u001b[0m                                Traceback (most recent call last)",
      "\u001b[0;32m<ipython-input-24-50f2d900eb26>\u001b[0m in \u001b[0;36m<module>\u001b[0;34m\u001b[0m\n\u001b[0;32m----> 1\u001b[0;31m \u001b[0mmodel\u001b[0m\u001b[0;34m.\u001b[0m\u001b[0mz_to_smiles\u001b[0m\u001b[0;34m(\u001b[0m\u001b[0mhidden\u001b[0m\u001b[0;34m,\u001b[0m \u001b[0mdecode_attempts\u001b[0m\u001b[0;34m=\u001b[0m\u001b[0;36m10\u001b[0m\u001b[0;34m)\u001b[0m\u001b[0;34m\u001b[0m\u001b[0;34m\u001b[0m\u001b[0m\n\u001b[0m",
      "\u001b[0;32m~/opt/miniconda3/envs/chemvae/lib/python3.6/site-packages/chemvae-1.0.0-py3.6.egg/chemvae/vae_utils.py\u001b[0m in \u001b[0;36mz_to_smiles\u001b[0;34m(self, z, decode_attempts, noise_norm, constant_norm, early_stop)\u001b[0m\n\u001b[1;32m    138\u001b[0m         \u001b[0mX\u001b[0m \u001b[0;34m=\u001b[0m \u001b[0mself\u001b[0m\u001b[0;34m.\u001b[0m\u001b[0mdecode\u001b[0m\u001b[0;34m(\u001b[0m\u001b[0mZ\u001b[0m\u001b[0;34m)\u001b[0m\u001b[0;34m\u001b[0m\u001b[0;34m\u001b[0m\u001b[0m\n\u001b[1;32m    139\u001b[0m         \u001b[0msmiles\u001b[0m \u001b[0;34m=\u001b[0m \u001b[0mself\u001b[0m\u001b[0;34m.\u001b[0m\u001b[0mhot_to_smiles\u001b[0m\u001b[0;34m(\u001b[0m\u001b[0mX\u001b[0m\u001b[0;34m,\u001b[0m \u001b[0mstrip\u001b[0m\u001b[0;34m=\u001b[0m\u001b[0;32mTrue\u001b[0m\u001b[0;34m)\u001b[0m\u001b[0;34m\u001b[0m\u001b[0;34m\u001b[0m\u001b[0m\n\u001b[0;32m--> 140\u001b[0;31m         \u001b[0mdf\u001b[0m \u001b[0;34m=\u001b[0m \u001b[0mself\u001b[0m\u001b[0;34m.\u001b[0m\u001b[0mprep_mol_df\u001b[0m\u001b[0;34m(\u001b[0m\u001b[0msmiles\u001b[0m\u001b[0;34m,\u001b[0m \u001b[0mz\u001b[0m\u001b[0;34m)\u001b[0m\u001b[0;34m\u001b[0m\u001b[0;34m\u001b[0m\u001b[0m\n\u001b[0m\u001b[1;32m    141\u001b[0m         \u001b[0;32mreturn\u001b[0m \u001b[0mdf\u001b[0m\u001b[0;34m\u001b[0m\u001b[0;34m\u001b[0m\u001b[0m\n\u001b[1;32m    142\u001b[0m \u001b[0;34m\u001b[0m\u001b[0m\n",
      "\u001b[0;32m~/opt/miniconda3/envs/chemvae/lib/python3.6/site-packages/chemvae-1.0.0-py3.6.egg/chemvae/vae_utils.py\u001b[0m in \u001b[0;36mprep_mol_df\u001b[0;34m(self, smiles, z)\u001b[0m\n\u001b[1;32m    110\u001b[0m             \u001b[0mdf\u001b[0m \u001b[0;34m=\u001b[0m \u001b[0mdf\u001b[0m\u001b[0;34m[\u001b[0m\u001b[0mpd\u001b[0m\u001b[0;34m.\u001b[0m\u001b[0mnotnull\u001b[0m\u001b[0;34m(\u001b[0m\u001b[0mdf\u001b[0m\u001b[0;34m[\u001b[0m\u001b[0;34m'mol'\u001b[0m\u001b[0;34m]\u001b[0m\u001b[0;34m)\u001b[0m\u001b[0;34m]\u001b[0m\u001b[0;34m\u001b[0m\u001b[0;34m\u001b[0m\u001b[0m\n\u001b[1;32m    111\u001b[0m         \u001b[0;32mif\u001b[0m \u001b[0mlen\u001b[0m\u001b[0;34m(\u001b[0m\u001b[0mdf\u001b[0m\u001b[0;34m)\u001b[0m \u001b[0;34m>\u001b[0m \u001b[0;36m0\u001b[0m\u001b[0;34m:\u001b[0m\u001b[0;34m\u001b[0m\u001b[0;34m\u001b[0m\u001b[0m\n\u001b[0;32m--> 112\u001b[0;31m             \u001b[0mdf\u001b[0m\u001b[0;34m[\u001b[0m\u001b[0;34m'distance'\u001b[0m\u001b[0;34m]\u001b[0m \u001b[0;34m=\u001b[0m \u001b[0mself\u001b[0m\u001b[0;34m.\u001b[0m\u001b[0msmiles_distance_z\u001b[0m\u001b[0;34m(\u001b[0m\u001b[0mdf\u001b[0m\u001b[0;34m[\u001b[0m\u001b[0;34m'smiles'\u001b[0m\u001b[0;34m]\u001b[0m\u001b[0;34m,\u001b[0m \u001b[0mz\u001b[0m\u001b[0;34m)\u001b[0m\u001b[0;34m\u001b[0m\u001b[0;34m\u001b[0m\u001b[0m\n\u001b[0m\u001b[1;32m    113\u001b[0m             \u001b[0mdf\u001b[0m\u001b[0;34m[\u001b[0m\u001b[0;34m'frequency'\u001b[0m\u001b[0;34m]\u001b[0m \u001b[0;34m=\u001b[0m \u001b[0mdf\u001b[0m\u001b[0;34m[\u001b[0m\u001b[0;34m'count'\u001b[0m\u001b[0;34m]\u001b[0m \u001b[0;34m/\u001b[0m \u001b[0mfloat\u001b[0m\u001b[0;34m(\u001b[0m\u001b[0msum\u001b[0m\u001b[0;34m(\u001b[0m\u001b[0mdf\u001b[0m\u001b[0;34m[\u001b[0m\u001b[0;34m'count'\u001b[0m\u001b[0;34m]\u001b[0m\u001b[0;34m)\u001b[0m\u001b[0;34m)\u001b[0m\u001b[0;34m\u001b[0m\u001b[0;34m\u001b[0m\u001b[0m\n\u001b[1;32m    114\u001b[0m             \u001b[0mdf\u001b[0m \u001b[0;34m=\u001b[0m \u001b[0mdf\u001b[0m\u001b[0;34m[\u001b[0m\u001b[0;34m[\u001b[0m\u001b[0;34m'smiles'\u001b[0m\u001b[0;34m,\u001b[0m \u001b[0;34m'distance'\u001b[0m\u001b[0;34m,\u001b[0m \u001b[0;34m'count'\u001b[0m\u001b[0;34m,\u001b[0m \u001b[0;34m'frequency'\u001b[0m\u001b[0;34m,\u001b[0m \u001b[0;34m'mol'\u001b[0m\u001b[0;34m]\u001b[0m\u001b[0;34m]\u001b[0m\u001b[0;34m\u001b[0m\u001b[0;34m\u001b[0m\u001b[0m\n",
      "\u001b[0;32m~/opt/miniconda3/envs/chemvae/lib/python3.6/site-packages/chemvae-1.0.0-py3.6.egg/chemvae/vae_utils.py\u001b[0m in \u001b[0;36msmiles_distance_z\u001b[0;34m(self, smiles, z0)\u001b[0m\n\u001b[1;32m     96\u001b[0m         \u001b[0mx\u001b[0m \u001b[0;34m=\u001b[0m \u001b[0mself\u001b[0m\u001b[0;34m.\u001b[0m\u001b[0msmiles_to_hot\u001b[0m\u001b[0;34m(\u001b[0m\u001b[0msmiles\u001b[0m\u001b[0;34m)\u001b[0m\u001b[0;34m\u001b[0m\u001b[0;34m\u001b[0m\u001b[0m\n\u001b[1;32m     97\u001b[0m         \u001b[0mz_rep\u001b[0m \u001b[0;34m=\u001b[0m \u001b[0mself\u001b[0m\u001b[0;34m.\u001b[0m\u001b[0mencode\u001b[0m\u001b[0;34m(\u001b[0m\u001b[0mx\u001b[0m\u001b[0;34m)\u001b[0m\u001b[0;34m\u001b[0m\u001b[0;34m\u001b[0m\u001b[0m\n\u001b[0;32m---> 98\u001b[0;31m         \u001b[0;32mreturn\u001b[0m \u001b[0mnp\u001b[0m\u001b[0;34m.\u001b[0m\u001b[0mlinalg\u001b[0m\u001b[0;34m.\u001b[0m\u001b[0mnorm\u001b[0m\u001b[0;34m(\u001b[0m\u001b[0mz0\u001b[0m \u001b[0;34m-\u001b[0m \u001b[0mz_rep\u001b[0m\u001b[0;34m,\u001b[0m \u001b[0maxis\u001b[0m\u001b[0;34m=\u001b[0m\u001b[0;36m1\u001b[0m\u001b[0;34m)\u001b[0m\u001b[0;34m\u001b[0m\u001b[0;34m\u001b[0m\u001b[0m\n\u001b[0m\u001b[1;32m     99\u001b[0m \u001b[0;34m\u001b[0m\u001b[0m\n\u001b[1;32m    100\u001b[0m     \u001b[0;32mdef\u001b[0m \u001b[0mprep_mol_df\u001b[0m\u001b[0;34m(\u001b[0m\u001b[0mself\u001b[0m\u001b[0;34m,\u001b[0m \u001b[0msmiles\u001b[0m\u001b[0;34m,\u001b[0m \u001b[0mz\u001b[0m\u001b[0;34m)\u001b[0m\u001b[0;34m:\u001b[0m\u001b[0;34m\u001b[0m\u001b[0;34m\u001b[0m\u001b[0m\n",
      "\u001b[0;31mValueError\u001b[0m: operands could not be broadcast together with shapes (3,196) (4,196) "
     ]
    }
   ],
   "source": [
    "model.z_to_smiles(hidden, decode_attempts=10)"
   ]
  },
  {
   "cell_type": "code",
   "execution_count": 14,
   "metadata": {
    "ExecuteTime": {
     "end_time": "2020-03-26T13:20:36.705601Z",
     "start_time": "2020-03-26T13:20:36.699256Z"
    }
   },
   "outputs": [
    {
     "data": {
      "text/plain": [
       "(196,)"
      ]
     },
     "execution_count": 14,
     "metadata": {},
     "output_type": "execute_result"
    }
   ],
   "source": [
    "hidden[0].shape"
   ]
  },
  {
   "cell_type": "code",
   "execution_count": 8,
   "metadata": {
    "ExecuteTime": {
     "end_time": "2020-03-25T13:53:39.860493Z",
     "start_time": "2020-03-25T13:53:39.856462Z"
    }
   },
   "outputs": [],
   "source": [
    "mol_1 = mu.canon_smiles(mols[0])"
   ]
  },
  {
   "cell_type": "code",
   "execution_count": 9,
   "metadata": {
    "ExecuteTime": {
     "end_time": "2020-03-25T13:53:40.084370Z",
     "start_time": "2020-03-25T13:53:40.076951Z"
    }
   },
   "outputs": [
    {
     "data": {
      "text/plain": [
       "'Cc1ccc(S2(=O)=NC(=O)Nc3ccccc32)cc1'"
      ]
     },
     "execution_count": 9,
     "metadata": {},
     "output_type": "execute_result"
    }
   ],
   "source": [
    "mol_1"
   ]
  },
  {
   "cell_type": "code",
   "execution_count": 29,
   "metadata": {
    "ExecuteTime": {
     "end_time": "2020-03-25T14:43:51.289264Z",
     "start_time": "2020-03-25T14:43:51.283712Z"
    }
   },
   "outputs": [],
   "source": [
    "def vae_encode_decode(smiles, model, predict_prop=False, decode=True):\n",
    "    X_1 = model.smiles_to_hot(smiles, canonize_smiles=True)\n",
    "    hidden = model.encode(X_1)\n",
    "    \n",
    "    if decode:\n",
    "        X_r = model.z_to_smiles(hidden, noise_norm=5)\n",
    "    \n",
    "    if predict_prop:\n",
    "        y_p = model.predict_prop_Z(hidden)\n",
    "        y_p = pd.DataFrame(columns=['qed', 'SAS', 'logP'], data=y_p, index=[smiles])\\\n",
    "                          .reset_index()\\\n",
    "                          .rename(columns={'index':'smiles'})\n",
    "    \n",
    "    if predict_prop & decode: return X_r, y_p\n",
    "    if predict_prop: return y_p\n",
    "    if decode: return X_r"
   ]
  },
  {
   "cell_type": "code",
   "execution_count": 30,
   "metadata": {
    "ExecuteTime": {
     "end_time": "2020-03-25T14:44:23.664261Z",
     "start_time": "2020-03-25T14:43:53.061526Z"
    }
   },
   "outputs": [],
   "source": [
    "predicted_props = []\n",
    "decodec_mols = []\n",
    "\n",
    "for mol in mols:\n",
    "    X_r, y_p = vae_encode_decode(mol, model, predict_prop=True)\n",
    "    \n",
    "    predicted_props.append(y_p)\n",
    "    decodec_mols.append(X_r)\n",
    "\n",
    "y_p = pd.concat(predicted_props).reset_index(drop=True)"
   ]
  },
  {
   "cell_type": "code",
   "execution_count": 25,
   "metadata": {
    "ExecuteTime": {
     "end_time": "2020-03-25T14:26:15.807803Z",
     "start_time": "2020-03-25T14:26:15.795830Z"
    }
   },
   "outputs": [
    {
     "data": {
      "text/html": [
       "<div>\n",
       "<style scoped>\n",
       "    .dataframe tbody tr th:only-of-type {\n",
       "        vertical-align: middle;\n",
       "    }\n",
       "\n",
       "    .dataframe tbody tr th {\n",
       "        vertical-align: top;\n",
       "    }\n",
       "\n",
       "    .dataframe thead th {\n",
       "        text-align: right;\n",
       "    }\n",
       "</style>\n",
       "<table border=\"1\" class=\"dataframe\">\n",
       "  <thead>\n",
       "    <tr style=\"text-align: right;\">\n",
       "      <th></th>\n",
       "      <th>smiles</th>\n",
       "      <th>distance</th>\n",
       "      <th>count</th>\n",
       "      <th>frequency</th>\n",
       "      <th>mol</th>\n",
       "    </tr>\n",
       "  </thead>\n",
       "  <tbody>\n",
       "    <tr>\n",
       "      <th>0</th>\n",
       "      <td>COC(=O)C1CCC(Oc2ccc(NC(=O)C(=O)NN)cn2)CC1</td>\n",
       "      <td>0.000008</td>\n",
       "      <td>108</td>\n",
       "      <td>0.729730</td>\n",
       "      <td>&lt;rdkit.Chem.rdchem.Mol object at 0x130cd2a80&gt;</td>\n",
       "    </tr>\n",
       "    <tr>\n",
       "      <th>1</th>\n",
       "      <td>COC(=O)C1CCc(Oc2ccc(NC(=O)C(=O)NN)cn2)CC1</td>\n",
       "      <td>0.000008</td>\n",
       "      <td>1</td>\n",
       "      <td>0.006757</td>\n",
       "      <td>&lt;rdkit.Chem.rdchem.Mol object at 0x130cd0990&gt;</td>\n",
       "    </tr>\n",
       "    <tr>\n",
       "      <th>2</th>\n",
       "      <td>COC(=O)C1CCC(Oc2ccc(NC(=O)C(=O)NO)cn2)CC1</td>\n",
       "      <td>2.038620</td>\n",
       "      <td>2</td>\n",
       "      <td>0.013514</td>\n",
       "      <td>&lt;rdkit.Chem.rdchem.Mol object at 0x130cd02b0&gt;</td>\n",
       "    </tr>\n",
       "    <tr>\n",
       "      <th>3</th>\n",
       "      <td>COC(=O)C1CCC(Nc2ccc(NC(=O)C(=O)NN)cn2)CC1</td>\n",
       "      <td>2.772492</td>\n",
       "      <td>3</td>\n",
       "      <td>0.020270</td>\n",
       "      <td>&lt;rdkit.Chem.rdchem.Mol object at 0x130cd0940&gt;</td>\n",
       "    </tr>\n",
       "    <tr>\n",
       "      <th>4</th>\n",
       "      <td>COC(=O)C1CCC(Oc2ccc(NC(=O)C(=O)NN)nn2)CC1</td>\n",
       "      <td>3.370838</td>\n",
       "      <td>3</td>\n",
       "      <td>0.020270</td>\n",
       "      <td>&lt;rdkit.Chem.rdchem.Mol object at 0x130cd0850&gt;</td>\n",
       "    </tr>\n",
       "    <tr>\n",
       "      <th>5</th>\n",
       "      <td>COC(=O)C1CCC(Oc2ccc(NC(=O)C(=O)N)=Cn2)CC1</td>\n",
       "      <td>8.335656</td>\n",
       "      <td>1</td>\n",
       "      <td>0.006757</td>\n",
       "      <td>&lt;rdkit.Chem.rdchem.Mol object at 0x130cd08f0&gt;</td>\n",
       "    </tr>\n",
       "    <tr>\n",
       "      <th>6</th>\n",
       "      <td>COC(=O)C1CC(COc2ccc(NC(=O)C(=O)NN)cn2)CC1</td>\n",
       "      <td>8.871373</td>\n",
       "      <td>10</td>\n",
       "      <td>0.067568</td>\n",
       "      <td>&lt;rdkit.Chem.rdchem.Mol object at 0x130cd06c0&gt;</td>\n",
       "    </tr>\n",
       "    <tr>\n",
       "      <th>7</th>\n",
       "      <td>COC(=O)C1CCC(Oc2ccc(NC(=O)C(=O)NC)cn2)CC1</td>\n",
       "      <td>14.762545</td>\n",
       "      <td>16</td>\n",
       "      <td>0.108108</td>\n",
       "      <td>&lt;rdkit.Chem.rdchem.Mol object at 0x130cd26c0&gt;</td>\n",
       "    </tr>\n",
       "    <tr>\n",
       "      <th>8</th>\n",
       "      <td>COC(=O)C1CC(NOc2ccc(NC(=O)C(=O)NC)cn2)CC1</td>\n",
       "      <td>15.131734</td>\n",
       "      <td>1</td>\n",
       "      <td>0.006757</td>\n",
       "      <td>&lt;rdkit.Chem.rdchem.Mol object at 0x130cd05d0&gt;</td>\n",
       "    </tr>\n",
       "    <tr>\n",
       "      <th>9</th>\n",
       "      <td>COC(=O)C1CC(COc2ccc(NC(=O)C(=O)NC)cn2)CC1</td>\n",
       "      <td>15.493993</td>\n",
       "      <td>3</td>\n",
       "      <td>0.020270</td>\n",
       "      <td>&lt;rdkit.Chem.rdchem.Mol object at 0x130cd2670&gt;</td>\n",
       "    </tr>\n",
       "  </tbody>\n",
       "</table>\n",
       "</div>"
      ],
      "text/plain": [
       "                                      smiles   distance  count  frequency  \\\n",
       "0  COC(=O)C1CCC(Oc2ccc(NC(=O)C(=O)NN)cn2)CC1   0.000008    108   0.729730   \n",
       "1  COC(=O)C1CCc(Oc2ccc(NC(=O)C(=O)NN)cn2)CC1   0.000008      1   0.006757   \n",
       "2  COC(=O)C1CCC(Oc2ccc(NC(=O)C(=O)NO)cn2)CC1   2.038620      2   0.013514   \n",
       "3  COC(=O)C1CCC(Nc2ccc(NC(=O)C(=O)NN)cn2)CC1   2.772492      3   0.020270   \n",
       "4  COC(=O)C1CCC(Oc2ccc(NC(=O)C(=O)NN)nn2)CC1   3.370838      3   0.020270   \n",
       "5  COC(=O)C1CCC(Oc2ccc(NC(=O)C(=O)N)=Cn2)CC1   8.335656      1   0.006757   \n",
       "6  COC(=O)C1CC(COc2ccc(NC(=O)C(=O)NN)cn2)CC1   8.871373     10   0.067568   \n",
       "7  COC(=O)C1CCC(Oc2ccc(NC(=O)C(=O)NC)cn2)CC1  14.762545     16   0.108108   \n",
       "8  COC(=O)C1CC(NOc2ccc(NC(=O)C(=O)NC)cn2)CC1  15.131734      1   0.006757   \n",
       "9  COC(=O)C1CC(COc2ccc(NC(=O)C(=O)NC)cn2)CC1  15.493993      3   0.020270   \n",
       "\n",
       "                                             mol  \n",
       "0  <rdkit.Chem.rdchem.Mol object at 0x130cd2a80>  \n",
       "1  <rdkit.Chem.rdchem.Mol object at 0x130cd0990>  \n",
       "2  <rdkit.Chem.rdchem.Mol object at 0x130cd02b0>  \n",
       "3  <rdkit.Chem.rdchem.Mol object at 0x130cd0940>  \n",
       "4  <rdkit.Chem.rdchem.Mol object at 0x130cd0850>  \n",
       "5  <rdkit.Chem.rdchem.Mol object at 0x130cd08f0>  \n",
       "6  <rdkit.Chem.rdchem.Mol object at 0x130cd06c0>  \n",
       "7  <rdkit.Chem.rdchem.Mol object at 0x130cd26c0>  \n",
       "8  <rdkit.Chem.rdchem.Mol object at 0x130cd05d0>  \n",
       "9  <rdkit.Chem.rdchem.Mol object at 0x130cd2670>  "
      ]
     },
     "execution_count": 25,
     "metadata": {},
     "output_type": "execute_result"
    }
   ],
   "source": [
    "X_rвв"
   ]
  },
  {
   "cell_type": "code",
   "execution_count": 35,
   "metadata": {
    "ExecuteTime": {
     "end_time": "2020-03-25T14:50:54.562782Z",
     "start_time": "2020-03-25T14:50:54.550748Z"
    }
   },
   "outputs": [
    {
     "data": {
      "text/html": [
       "<div>\n",
       "<style scoped>\n",
       "    .dataframe tbody tr th:only-of-type {\n",
       "        vertical-align: middle;\n",
       "    }\n",
       "\n",
       "    .dataframe tbody tr th {\n",
       "        vertical-align: top;\n",
       "    }\n",
       "\n",
       "    .dataframe thead th {\n",
       "        text-align: right;\n",
       "    }\n",
       "</style>\n",
       "<table border=\"1\" class=\"dataframe\">\n",
       "  <thead>\n",
       "    <tr style=\"text-align: right;\">\n",
       "      <th></th>\n",
       "      <th>smiles</th>\n",
       "      <th>qed</th>\n",
       "      <th>SAS</th>\n",
       "      <th>logP</th>\n",
       "    </tr>\n",
       "  </thead>\n",
       "  <tbody>\n",
       "    <tr>\n",
       "      <th>0</th>\n",
       "      <td>Cc1ccc(C[N+]2=NC(=O)Nc3ccccc32)cc1</td>\n",
       "      <td>0.725672</td>\n",
       "      <td>2.652125</td>\n",
       "      <td>1.702881</td>\n",
       "    </tr>\n",
       "  </tbody>\n",
       "</table>\n",
       "</div>"
      ],
      "text/plain": [
       "                               smiles       qed       SAS      logP\n",
       "0  Cc1ccc(C[N+]2=NC(=O)Nc3ccccc32)cc1  0.725672  2.652125  1.702881"
      ]
     },
     "execution_count": 35,
     "metadata": {},
     "output_type": "execute_result"
    }
   ],
   "source": [
    "predicted_props[0]"
   ]
  },
  {
   "cell_type": "code",
   "execution_count": 36,
   "metadata": {
    "ExecuteTime": {
     "end_time": "2020-03-25T14:52:34.843208Z",
     "start_time": "2020-03-25T14:52:34.759221Z"
    },
    "scrolled": true
   },
   "outputs": [],
   "source": [
    "for x_r in decodec_mols:\n",
    "    predicted_props = []\n",
    "    \n",
    "    for smiles in x_r.smiles.values:\n",
    "        y_p = vae_encode_decode(smiles, model, decode=False, predict_prop=True)\n",
    "        predicted_props.append(y_p)\n",
    "    \n",
    "    predicted_props = pd.concat(predicted_props)"
   ]
  },
  {
   "cell_type": "code",
   "execution_count": 40,
   "metadata": {
    "ExecuteTime": {
     "end_time": "2020-03-25T14:57:10.926773Z",
     "start_time": "2020-03-25T14:57:10.912365Z"
    }
   },
   "outputs": [
    {
     "data": {
      "text/html": [
       "<div>\n",
       "<style scoped>\n",
       "    .dataframe tbody tr th:only-of-type {\n",
       "        vertical-align: middle;\n",
       "    }\n",
       "\n",
       "    .dataframe tbody tr th {\n",
       "        vertical-align: top;\n",
       "    }\n",
       "\n",
       "    .dataframe thead th {\n",
       "        text-align: right;\n",
       "    }\n",
       "</style>\n",
       "<table border=\"1\" class=\"dataframe\">\n",
       "  <thead>\n",
       "    <tr style=\"text-align: right;\">\n",
       "      <th></th>\n",
       "      <th>smiles</th>\n",
       "      <th>distance</th>\n",
       "      <th>count</th>\n",
       "      <th>frequency</th>\n",
       "      <th>mol</th>\n",
       "    </tr>\n",
       "  </thead>\n",
       "  <tbody>\n",
       "    <tr>\n",
       "      <th>0</th>\n",
       "      <td>Cc1ccc(C[N+]2=NC(=O)Nc3ccccc32)cc1</td>\n",
       "      <td>10.710662</td>\n",
       "      <td>13</td>\n",
       "      <td>0.342105</td>\n",
       "      <td>&lt;rdkit.Chem.rdchem.Mol object at 0x125402670&gt;</td>\n",
       "    </tr>\n",
       "    <tr>\n",
       "      <th>1</th>\n",
       "      <td>Cc1ccc(C[n+]2=NC(=O)Nc3ccccc32)cc1</td>\n",
       "      <td>10.710662</td>\n",
       "      <td>13</td>\n",
       "      <td>0.342105</td>\n",
       "      <td>&lt;rdkit.Chem.rdchem.Mol object at 0x125402bc0&gt;</td>\n",
       "    </tr>\n",
       "    <tr>\n",
       "      <th>2</th>\n",
       "      <td>Cc1ccc(/[N+]2=NC(=O)Nc3ccccc32)cc1</td>\n",
       "      <td>10.796433</td>\n",
       "      <td>1</td>\n",
       "      <td>0.026316</td>\n",
       "      <td>&lt;rdkit.Chem.rdchem.Mol object at 0x12f9d0530&gt;</td>\n",
       "    </tr>\n",
       "    <tr>\n",
       "      <th>3</th>\n",
       "      <td>Cc1ccc(N[n+]2=NC(=O)Nc3ccccc32)cc1</td>\n",
       "      <td>11.851715</td>\n",
       "      <td>1</td>\n",
       "      <td>0.026316</td>\n",
       "      <td>&lt;rdkit.Chem.rdchem.Mol object at 0x12f9d0440&gt;</td>\n",
       "    </tr>\n",
       "    <tr>\n",
       "      <th>4</th>\n",
       "      <td>Fc1ccc(/[N+]2=NC(=O)Nc3ccccc32)cc1</td>\n",
       "      <td>13.996181</td>\n",
       "      <td>1</td>\n",
       "      <td>0.026316</td>\n",
       "      <td>&lt;rdkit.Chem.rdchem.Mol object at 0x12f9d02b0&gt;</td>\n",
       "    </tr>\n",
       "    <tr>\n",
       "      <th>5</th>\n",
       "      <td>Fc1ccc(C[N+]2=NC(=O)Nc3ccccc32)cc1</td>\n",
       "      <td>14.066278</td>\n",
       "      <td>2</td>\n",
       "      <td>0.052632</td>\n",
       "      <td>&lt;rdkit.Chem.rdchem.Mol object at 0x125402800&gt;</td>\n",
       "    </tr>\n",
       "    <tr>\n",
       "      <th>6</th>\n",
       "      <td>Fc1ccc(C[n+]2=NC(=O)Nc3ccccc32)cc1</td>\n",
       "      <td>14.066278</td>\n",
       "      <td>1</td>\n",
       "      <td>0.026316</td>\n",
       "      <td>&lt;rdkit.Chem.rdchem.Mol object at 0x12f9d3df0&gt;</td>\n",
       "    </tr>\n",
       "    <tr>\n",
       "      <th>7</th>\n",
       "      <td>C1cccc(/[N+]2=NC(=O)Nc3ccccc32)cc1</td>\n",
       "      <td>15.344516</td>\n",
       "      <td>1</td>\n",
       "      <td>0.026316</td>\n",
       "      <td>&lt;rdkit.Chem.rdchem.Mol object at 0x12f9d0210&gt;</td>\n",
       "    </tr>\n",
       "    <tr>\n",
       "      <th>8</th>\n",
       "      <td>C1cccc(C[N+]2=NC(=O)Nc3ccccc32)cc1</td>\n",
       "      <td>16.260596</td>\n",
       "      <td>4</td>\n",
       "      <td>0.105263</td>\n",
       "      <td>&lt;rdkit.Chem.rdchem.Mol object at 0x125402760&gt;</td>\n",
       "    </tr>\n",
       "    <tr>\n",
       "      <th>9</th>\n",
       "      <td>C1cccc(C[N+]2=NC(=O)Nc3ccccc23)cc1</td>\n",
       "      <td>16.260596</td>\n",
       "      <td>1</td>\n",
       "      <td>0.026316</td>\n",
       "      <td>&lt;rdkit.Chem.rdchem.Mol object at 0x12f9d01c0&gt;</td>\n",
       "    </tr>\n",
       "  </tbody>\n",
       "</table>\n",
       "</div>"
      ],
      "text/plain": [
       "                               smiles   distance  count  frequency  \\\n",
       "0  Cc1ccc(C[N+]2=NC(=O)Nc3ccccc32)cc1  10.710662     13   0.342105   \n",
       "1  Cc1ccc(C[n+]2=NC(=O)Nc3ccccc32)cc1  10.710662     13   0.342105   \n",
       "2  Cc1ccc(/[N+]2=NC(=O)Nc3ccccc32)cc1  10.796433      1   0.026316   \n",
       "3  Cc1ccc(N[n+]2=NC(=O)Nc3ccccc32)cc1  11.851715      1   0.026316   \n",
       "4  Fc1ccc(/[N+]2=NC(=O)Nc3ccccc32)cc1  13.996181      1   0.026316   \n",
       "5  Fc1ccc(C[N+]2=NC(=O)Nc3ccccc32)cc1  14.066278      2   0.052632   \n",
       "6  Fc1ccc(C[n+]2=NC(=O)Nc3ccccc32)cc1  14.066278      1   0.026316   \n",
       "7  C1cccc(/[N+]2=NC(=O)Nc3ccccc32)cc1  15.344516      1   0.026316   \n",
       "8  C1cccc(C[N+]2=NC(=O)Nc3ccccc32)cc1  16.260596      4   0.105263   \n",
       "9  C1cccc(C[N+]2=NC(=O)Nc3ccccc23)cc1  16.260596      1   0.026316   \n",
       "\n",
       "                                             mol  \n",
       "0  <rdkit.Chem.rdchem.Mol object at 0x125402670>  \n",
       "1  <rdkit.Chem.rdchem.Mol object at 0x125402bc0>  \n",
       "2  <rdkit.Chem.rdchem.Mol object at 0x12f9d0530>  \n",
       "3  <rdkit.Chem.rdchem.Mol object at 0x12f9d0440>  \n",
       "4  <rdkit.Chem.rdchem.Mol object at 0x12f9d02b0>  \n",
       "5  <rdkit.Chem.rdchem.Mol object at 0x125402800>  \n",
       "6  <rdkit.Chem.rdchem.Mol object at 0x12f9d3df0>  \n",
       "7  <rdkit.Chem.rdchem.Mol object at 0x12f9d0210>  \n",
       "8  <rdkit.Chem.rdchem.Mol object at 0x125402760>  \n",
       "9  <rdkit.Chem.rdchem.Mol object at 0x12f9d01c0>  "
      ]
     },
     "execution_count": 40,
     "metadata": {},
     "output_type": "execute_result"
    }
   ],
   "source": [
    "decodec_mols[0]"
   ]
  },
  {
   "cell_type": "code",
   "execution_count": 37,
   "metadata": {
    "ExecuteTime": {
     "end_time": "2020-03-25T14:52:38.872022Z",
     "start_time": "2020-03-25T14:52:38.859001Z"
    }
   },
   "outputs": [
    {
     "data": {
      "text/html": [
       "<div>\n",
       "<style scoped>\n",
       "    .dataframe tbody tr th:only-of-type {\n",
       "        vertical-align: middle;\n",
       "    }\n",
       "\n",
       "    .dataframe tbody tr th {\n",
       "        vertical-align: top;\n",
       "    }\n",
       "\n",
       "    .dataframe thead th {\n",
       "        text-align: right;\n",
       "    }\n",
       "</style>\n",
       "<table border=\"1\" class=\"dataframe\">\n",
       "  <thead>\n",
       "    <tr style=\"text-align: right;\">\n",
       "      <th></th>\n",
       "      <th>smiles</th>\n",
       "      <th>qed</th>\n",
       "      <th>SAS</th>\n",
       "      <th>logP</th>\n",
       "    </tr>\n",
       "  </thead>\n",
       "  <tbody>\n",
       "    <tr>\n",
       "      <th>0</th>\n",
       "      <td>Cc1ccc(C[N+]2=NC(=O)Nc3ccccc32)cc1</td>\n",
       "      <td>0.725672</td>\n",
       "      <td>2.652125</td>\n",
       "      <td>1.702881</td>\n",
       "    </tr>\n",
       "    <tr>\n",
       "      <th>0</th>\n",
       "      <td>Cc1ccc(C[n+]2=NC(=O)Nc3ccccc32)cc1</td>\n",
       "      <td>0.725672</td>\n",
       "      <td>2.652125</td>\n",
       "      <td>1.702881</td>\n",
       "    </tr>\n",
       "    <tr>\n",
       "      <th>0</th>\n",
       "      <td>Cc1ccc(/[N+]2=NC(=O)Nc3ccccc32)cc1</td>\n",
       "      <td>0.693396</td>\n",
       "      <td>2.754468</td>\n",
       "      <td>1.764307</td>\n",
       "    </tr>\n",
       "    <tr>\n",
       "      <th>0</th>\n",
       "      <td>Cc1ccc(N[n+]2=NC(=O)Nc3ccccc32)cc1</td>\n",
       "      <td>0.733814</td>\n",
       "      <td>2.572225</td>\n",
       "      <td>2.043814</td>\n",
       "    </tr>\n",
       "    <tr>\n",
       "      <th>0</th>\n",
       "      <td>Fc1ccc(/[N+]2=NC(=O)Nc3ccccc32)cc1</td>\n",
       "      <td>0.706131</td>\n",
       "      <td>2.448046</td>\n",
       "      <td>1.694888</td>\n",
       "    </tr>\n",
       "    <tr>\n",
       "      <th>0</th>\n",
       "      <td>Fc1ccc(C[N+]2=NC(=O)Nc3ccccc32)cc1</td>\n",
       "      <td>0.755453</td>\n",
       "      <td>2.629815</td>\n",
       "      <td>1.538789</td>\n",
       "    </tr>\n",
       "    <tr>\n",
       "      <th>0</th>\n",
       "      <td>Fc1ccc(C[n+]2=NC(=O)Nc3ccccc32)cc1</td>\n",
       "      <td>0.755453</td>\n",
       "      <td>2.629815</td>\n",
       "      <td>1.538789</td>\n",
       "    </tr>\n",
       "    <tr>\n",
       "      <th>0</th>\n",
       "      <td>C1cccc(/[N+]2=NC(=O)Nc3ccccc32)cc1</td>\n",
       "      <td>0.770452</td>\n",
       "      <td>3.499652</td>\n",
       "      <td>1.616948</td>\n",
       "    </tr>\n",
       "    <tr>\n",
       "      <th>0</th>\n",
       "      <td>C1cccc(C[N+]2=NC(=O)Nc3ccccc32)cc1</td>\n",
       "      <td>0.792473</td>\n",
       "      <td>3.477104</td>\n",
       "      <td>1.984461</td>\n",
       "    </tr>\n",
       "    <tr>\n",
       "      <th>0</th>\n",
       "      <td>C1cccc(C[N+]2=NC(=O)Nc3ccccc23)cc1</td>\n",
       "      <td>0.792473</td>\n",
       "      <td>3.477104</td>\n",
       "      <td>1.984461</td>\n",
       "    </tr>\n",
       "  </tbody>\n",
       "</table>\n",
       "</div>"
      ],
      "text/plain": [
       "                               smiles       qed       SAS      logP\n",
       "0  Cc1ccc(C[N+]2=NC(=O)Nc3ccccc32)cc1  0.725672  2.652125  1.702881\n",
       "0  Cc1ccc(C[n+]2=NC(=O)Nc3ccccc32)cc1  0.725672  2.652125  1.702881\n",
       "0  Cc1ccc(/[N+]2=NC(=O)Nc3ccccc32)cc1  0.693396  2.754468  1.764307\n",
       "0  Cc1ccc(N[n+]2=NC(=O)Nc3ccccc32)cc1  0.733814  2.572225  2.043814\n",
       "0  Fc1ccc(/[N+]2=NC(=O)Nc3ccccc32)cc1  0.706131  2.448046  1.694888\n",
       "0  Fc1ccc(C[N+]2=NC(=O)Nc3ccccc32)cc1  0.755453  2.629815  1.538789\n",
       "0  Fc1ccc(C[n+]2=NC(=O)Nc3ccccc32)cc1  0.755453  2.629815  1.538789\n",
       "0  C1cccc(/[N+]2=NC(=O)Nc3ccccc32)cc1  0.770452  3.499652  1.616948\n",
       "0  C1cccc(C[N+]2=NC(=O)Nc3ccccc32)cc1  0.792473  3.477104  1.984461\n",
       "0  C1cccc(C[N+]2=NC(=O)Nc3ccccc23)cc1  0.792473  3.477104  1.984461"
      ]
     },
     "execution_count": 37,
     "metadata": {},
     "output_type": "execute_result"
    }
   ],
   "source": [
    "predicted_props"
   ]
  },
  {
   "cell_type": "code",
   "execution_count": 20,
   "metadata": {
    "ExecuteTime": {
     "end_time": "2020-03-25T14:12:32.012207Z",
     "start_time": "2020-03-25T14:12:31.992558Z"
    }
   },
   "outputs": [
    {
     "data": {
      "text/html": [
       "<div>\n",
       "<style scoped>\n",
       "    .dataframe tbody tr th:only-of-type {\n",
       "        vertical-align: middle;\n",
       "    }\n",
       "\n",
       "    .dataframe tbody tr th {\n",
       "        vertical-align: top;\n",
       "    }\n",
       "\n",
       "    .dataframe thead th {\n",
       "        text-align: right;\n",
       "    }\n",
       "</style>\n",
       "<table border=\"1\" class=\"dataframe\">\n",
       "  <thead>\n",
       "    <tr style=\"text-align: right;\">\n",
       "      <th></th>\n",
       "      <th>smiles</th>\n",
       "      <th>qed</th>\n",
       "      <th>SAS</th>\n",
       "      <th>logP</th>\n",
       "    </tr>\n",
       "  </thead>\n",
       "  <tbody>\n",
       "    <tr>\n",
       "      <th>0</th>\n",
       "      <td>Cc1ccc(S2(=O)=NC(=O)Nc3ccccc32)cc1</td>\n",
       "      <td>0.723133</td>\n",
       "      <td>2.410372</td>\n",
       "      <td>3.146723</td>\n",
       "    </tr>\n",
       "    <tr>\n",
       "      <th>1</th>\n",
       "      <td>CN(Cc1ccc2c(c1)C(=O)CC2)C(=O)OC(C)(C)C</td>\n",
       "      <td>0.811588</td>\n",
       "      <td>2.219855</td>\n",
       "      <td>2.438276</td>\n",
       "    </tr>\n",
       "    <tr>\n",
       "      <th>2</th>\n",
       "      <td>COC(=O)C1CCC(Oc2ccc(NC(=O)C(=O)NN)cn2)CC1</td>\n",
       "      <td>0.753153</td>\n",
       "      <td>2.478498</td>\n",
       "      <td>0.050346</td>\n",
       "    </tr>\n",
       "  </tbody>\n",
       "</table>\n",
       "</div>"
      ],
      "text/plain": [
       "                                      smiles       qed       SAS      logP\n",
       "0         Cc1ccc(S2(=O)=NC(=O)Nc3ccccc32)cc1  0.723133  2.410372  3.146723\n",
       "1     CN(Cc1ccc2c(c1)C(=O)CC2)C(=O)OC(C)(C)C  0.811588  2.219855  2.438276\n",
       "2  COC(=O)C1CCC(Oc2ccc(NC(=O)C(=O)NN)cn2)CC1  0.753153  2.478498  0.050346"
      ]
     },
     "execution_count": 20,
     "metadata": {},
     "output_type": "execute_result"
    }
   ],
   "source": [
    "y_p"
   ]
  },
  {
   "cell_type": "code",
   "execution_count": 13,
   "metadata": {
    "ExecuteTime": {
     "end_time": "2020-03-25T14:00:48.363807Z",
     "start_time": "2020-03-25T14:00:38.838470Z"
    },
    "scrolled": true
   },
   "outputs": [],
   "source": [
    "X_1 = model.smiles_to_hot(mol_1, canonize_smiles=True)\n",
    "z_1 = model.encode(X_1)\n",
    "X_r = model.decode(z_1)\n",
    "\n",
    "y_1 = model.z_to_smiles(z_1, decode_attempts=250, noise_norm=5)"
   ]
  },
  {
   "cell_type": "code",
   "execution_count": 248,
   "metadata": {
    "ExecuteTime": {
     "end_time": "2020-03-25T11:02:24.140933Z",
     "start_time": "2020-03-25T11:02:24.092414Z"
    }
   },
   "outputs": [
    {
     "data": {
      "text/html": [
       "<div>\n",
       "<style scoped>\n",
       "    .dataframe tbody tr th:only-of-type {\n",
       "        vertical-align: middle;\n",
       "    }\n",
       "\n",
       "    .dataframe tbody tr th {\n",
       "        vertical-align: top;\n",
       "    }\n",
       "\n",
       "    .dataframe thead th {\n",
       "        text-align: right;\n",
       "    }\n",
       "</style>\n",
       "<table border=\"1\" class=\"dataframe\">\n",
       "  <thead>\n",
       "    <tr style=\"text-align: right;\">\n",
       "      <th></th>\n",
       "      <th>smiles</th>\n",
       "      <th>distance</th>\n",
       "      <th>count</th>\n",
       "      <th>frequency</th>\n",
       "      <th>mol</th>\n",
       "    </tr>\n",
       "  </thead>\n",
       "  <tbody>\n",
       "    <tr>\n",
       "      <th>0</th>\n",
       "      <td>Cc1ccc(C[N+]2CNC(=O)Nc3ccccc32)cc1</td>\n",
       "      <td>5.308309</td>\n",
       "      <td>1</td>\n",
       "      <td>0.032258</td>\n",
       "      <td>&lt;img data-content=\"rdkit/molecule\" src=\"data:i...</td>\n",
       "    </tr>\n",
       "    <tr>\n",
       "      <th>1</th>\n",
       "      <td>Cc1ccc(C[n+]2=NC(=O)Nc3ccccc32)cc1</td>\n",
       "      <td>10.711519</td>\n",
       "      <td>12</td>\n",
       "      <td>0.387097</td>\n",
       "      <td>&lt;img data-content=\"rdkit/molecule\" src=\"data:i...</td>\n",
       "    </tr>\n",
       "    <tr>\n",
       "      <th>2</th>\n",
       "      <td>Cc1ccc(C[N+]2=NC(=O)Nc3ccccc32)cc1</td>\n",
       "      <td>10.711519</td>\n",
       "      <td>10</td>\n",
       "      <td>0.322581</td>\n",
       "      <td>&lt;img data-content=\"rdkit/molecule\" src=\"data:i...</td>\n",
       "    </tr>\n",
       "    <tr>\n",
       "      <th>3</th>\n",
       "      <td>Fc1ccc(C[n+]2=NC(=O)Nc3ccccc32)cc1</td>\n",
       "      <td>14.068934</td>\n",
       "      <td>2</td>\n",
       "      <td>0.064516</td>\n",
       "      <td>&lt;img data-content=\"rdkit/molecule\" src=\"data:i...</td>\n",
       "    </tr>\n",
       "    <tr>\n",
       "      <th>4</th>\n",
       "      <td>Fc1ccc(C[N+]2=NC(=O)Nc3ccccc32)cc1</td>\n",
       "      <td>14.068934</td>\n",
       "      <td>2</td>\n",
       "      <td>0.064516</td>\n",
       "      <td>&lt;img data-content=\"rdkit/molecule\" src=\"data:i...</td>\n",
       "    </tr>\n",
       "    <tr>\n",
       "      <th>5</th>\n",
       "      <td>C1cccc(C[N+]2=NC(=O)Nc3ccccc32)cc1</td>\n",
       "      <td>16.259174</td>\n",
       "      <td>2</td>\n",
       "      <td>0.064516</td>\n",
       "      <td>&lt;img data-content=\"rdkit/molecule\" src=\"data:i...</td>\n",
       "    </tr>\n",
       "    <tr>\n",
       "      <th>6</th>\n",
       "      <td>C1cccc(C[n+]2=NC(=O)Nc3ccccc32)cc1</td>\n",
       "      <td>16.259174</td>\n",
       "      <td>2</td>\n",
       "      <td>0.064516</td>\n",
       "      <td>&lt;img data-content=\"rdkit/molecule\" src=\"data:i...</td>\n",
       "    </tr>\n",
       "  </tbody>\n",
       "</table>\n",
       "</div>"
      ],
      "text/plain": [
       "                               smiles   distance  count  frequency  \\\n",
       "0  Cc1ccc(C[N+]2CNC(=O)Nc3ccccc32)cc1   5.308309      1   0.032258   \n",
       "1  Cc1ccc(C[n+]2=NC(=O)Nc3ccccc32)cc1  10.711519     12   0.387097   \n",
       "2  Cc1ccc(C[N+]2=NC(=O)Nc3ccccc32)cc1  10.711519     10   0.322581   \n",
       "3  Fc1ccc(C[n+]2=NC(=O)Nc3ccccc32)cc1  14.068934      2   0.064516   \n",
       "4  Fc1ccc(C[N+]2=NC(=O)Nc3ccccc32)cc1  14.068934      2   0.064516   \n",
       "5  C1cccc(C[N+]2=NC(=O)Nc3ccccc32)cc1  16.259174      2   0.064516   \n",
       "6  C1cccc(C[n+]2=NC(=O)Nc3ccccc32)cc1  16.259174      2   0.064516   \n",
       "\n",
       "                                                 mol  \n",
       "0  <img data-content=\"rdkit/molecule\" src=\"data:i...  \n",
       "1  <img data-content=\"rdkit/molecule\" src=\"data:i...  \n",
       "2  <img data-content=\"rdkit/molecule\" src=\"data:i...  \n",
       "3  <img data-content=\"rdkit/molecule\" src=\"data:i...  \n",
       "4  <img data-content=\"rdkit/molecule\" src=\"data:i...  \n",
       "5  <img data-content=\"rdkit/molecule\" src=\"data:i...  \n",
       "6  <img data-content=\"rdkit/molecule\" src=\"data:i...  "
      ]
     },
     "execution_count": 248,
     "metadata": {},
     "output_type": "execute_result"
    }
   ],
   "source": [
    "y_1"
   ]
  },
  {
   "cell_type": "code",
   "execution_count": 222,
   "metadata": {
    "ExecuteTime": {
     "end_time": "2020-03-25T10:37:55.816269Z",
     "start_time": "2020-03-25T10:37:55.732735Z"
    },
    "scrolled": true
   },
   "outputs": [
    {
     "data": {
      "image/png": "[encoded data removed]",
      "text/plain": [
       "<rdkit.Chem.rdchem.Mol at 0x135f81f30>"
      ]
     },
     "metadata": {},
     "output_type": "display_data"
    },
    {
     "data": {
      "image/png": "[encoded data removed]",
      "text/plain": [
       "<rdkit.Chem.rdchem.Mol at 0x135f81c10>"
      ]
     },
     "metadata": {},
     "output_type": "display_data"
    },
    {
     "data": {
      "image/png": "[encoded data removed]",
      "text/plain": [
       "<rdkit.Chem.rdchem.Mol at 0x135f81990>"
      ]
     },
     "metadata": {},
     "output_type": "display_data"
    },
    {
     "data": {
      "image/png": "[encoded data removed]",
      "text/plain": [
       "<rdkit.Chem.rdchem.Mol at 0x135f818f0>"
      ]
     },
     "metadata": {},
     "output_type": "display_data"
    },
    {
     "data": {
      "image/png": "[encoded data removed]",
      "text/plain": [
       "<rdkit.Chem.rdchem.Mol at 0x135f81c60>"
      ]
     },
     "metadata": {},
     "output_type": "display_data"
    },
    {
     "data": {
      "image/png": "[encoded data removed]",
      "text/plain": [
       "<rdkit.Chem.rdchem.Mol at 0x135f816c0>"
      ]
     },
     "metadata": {},
     "output_type": "display_data"
    },
    {
     "data": {
      "image/png": "[encoded data removed]",
      "text/plain": [
       "<rdkit.Chem.rdchem.Mol at 0x135f81d50>"
      ]
     },
     "metadata": {},
     "output_type": "display_data"
    },
    {
     "data": {
      "image/png": "[encoded data removed]",
      "text/plain": [
       "<rdkit.Chem.rdchem.Mol at 0x135f81350>"
      ]
     },
     "metadata": {},
     "output_type": "display_data"
    },
    {
     "data": {
      "image/png": "[encoded data removed]",
      "text/plain": [
       "<rdkit.Chem.rdchem.Mol at 0x135f81260>"
      ]
     },
     "metadata": {},
     "output_type": "display_data"
    },
    {
     "data": {
      "text/plain": [
       "[None, None, None, None, None, None, None, None, None]"
      ]
     },
     "execution_count": 222,
     "metadata": {},
     "output_type": "execute_result"
    }
   ],
   "source": [
    "[display(y) for y in y_1['mol'].values]"
   ]
  },
  {
   "cell_type": "code",
   "execution_count": 214,
   "metadata": {
    "ExecuteTime": {
     "end_time": "2020-03-25T09:56:59.364280Z",
     "start_time": "2020-03-25T09:56:59.353825Z"
    }
   },
   "outputs": [],
   "source": [
    "X_1 = model.smiles_to_hot(mol_1, canonize_smiles=True)\n",
    "z_1 = model.encode(X_1)\n",
    "y_p = model.predict_prop_Z(z_1)"
   ]
  },
  {
   "cell_type": "code",
   "execution_count": 215,
   "metadata": {
    "ExecuteTime": {
     "end_time": "2020-03-25T09:56:59.589973Z",
     "start_time": "2020-03-25T09:56:59.579507Z"
    }
   },
   "outputs": [
    {
     "data": {
      "text/plain": [
       "array([[0.72313255, 2.4103725 , 3.1467233 ]], dtype=float32)"
      ]
     },
     "execution_count": 215,
     "metadata": {},
     "output_type": "execute_result"
    }
   ],
   "source": [
    "y_p"
   ]
  },
  {
   "cell_type": "code",
   "execution_count": 200,
   "metadata": {
    "ExecuteTime": {
     "end_time": "2020-03-25T09:46:04.797190Z",
     "start_time": "2020-03-25T09:46:04.792658Z"
    }
   },
   "outputs": [
    {
     "data": {
      "text/plain": [
       "('C(cccc(C[N+]2=NC(=O)Nc3ccccc32)cc1', 10.290227665524897)"
      ]
     },
     "execution_count": 200,
     "metadata": {},
     "output_type": "execute_result"
    }
   ],
   "source": [
    "y_1, np.linalg.norm(z_1)"
   ]
  },
  {
   "cell_type": "code",
   "execution_count": 201,
   "metadata": {
    "ExecuteTime": {
     "end_time": "2020-03-25T09:46:04.957997Z",
     "start_time": "2020-03-25T09:46:04.947618Z"
    },
    "scrolled": true
   },
   "outputs": [
    {
     "name": "stderr",
     "output_type": "stream",
     "text": [
      "RDKit ERROR: [12:46:03] \n",
      "RDKit ERROR: \n",
      "RDKit ERROR: ****\n",
      "RDKit ERROR: Pre-condition Violation\n",
      "RDKit ERROR: no atoms\n",
      "RDKit ERROR: Violation occurred on line 173 in file /Users/glandrum/anaconda5/conda-bld/rdkit_1578629063066/work/Code/GraphMol/ROMol.cpp\n",
      "RDKit ERROR: Failed Expression: getNumAtoms() > 0\n",
      "RDKit ERROR: ****\n",
      "RDKit ERROR: \n",
      "RDKit ERROR: [12:46:04] SMILES Parse Error: extra open parentheses for input: 'C(cccc(C[N+]2=NC(=O)Nc3ccccc32)cc1'\n"
     ]
    }
   ],
   "source": [
    "Chem.MolFromSmiles(y_1)"
   ]
  },
  {
   "cell_type": "code",
   "execution_count": null,
   "metadata": {},
   "outputs": [],
   "source": []
  }
 ],
 "metadata": {
  "kernelspec": {
   "display_name": "conda_jb_bio",
   "language": "python",
   "name": "myenv"
  },
  "language_info": {
   "codemirror_mode": {
    "name": "ipython",
    "version": 3
   },
   "file_extension": ".py",
   "mimetype": "text/x-python",
   "name": "python",
   "nbconvert_exporter": "python",
   "pygments_lexer": "ipython3",
   "version": "3.6.10"
  },
  "varInspector": {
   "cols": {
    "lenName": 16,
    "lenType": 16,
    "lenVar": 40
   },
   "kernels_config": {
    "python": {
     "delete_cmd_postfix": "",
     "delete_cmd_prefix": "del ",
     "library": "var_list.py",
     "varRefreshCmd": "print(var_dic_list())"
    },
    "r": {
     "delete_cmd_postfix": ") ",
     "delete_cmd_prefix": "rm(",
     "library": "var_list.r",
     "varRefreshCmd": "cat(var_dic_list()) "
    }
   },
   "types_to_exclude": [
    "module",
    "function",
    "builtin_function_or_method",
    "instance",
    "_Feature"
   ],
   "window_display": false
  }
 },
 "nbformat": 4,
 "nbformat_minor": 4
}
